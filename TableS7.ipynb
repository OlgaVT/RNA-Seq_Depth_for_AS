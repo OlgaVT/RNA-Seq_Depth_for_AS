{
 "cells": [
  {
   "cell_type": "code",
   "execution_count": 1,
   "id": "76aff2ac",
   "metadata": {},
   "outputs": [],
   "source": [
    "import sys\n",
    "from collections import defaultdict"
   ]
  },
  {
   "cell_type": "code",
   "execution_count": 2,
   "id": "416e1a64",
   "metadata": {},
   "outputs": [],
   "source": [
    "def intersection(lst1, lst2):\n",
    "    lst3 = [value for value in lst1 if value in lst2]\n",
    "    return lst3"
   ]
  },
  {
   "cell_type": "code",
   "execution_count": 3,
   "id": "35822f6e",
   "metadata": {},
   "outputs": [],
   "source": [
    "path = ''#path to the summary file"
   ]
  },
  {
   "cell_type": "code",
   "execution_count": 4,
   "id": "de771dc7",
   "metadata": {},
   "outputs": [],
   "source": [
    "chromosomes = {}\n",
    "\n",
    "file = open(path + '/mart_export.txt')\n",
    "\n",
    "for line in file:\n",
    "    chromosomes[line.split()[0]] = line.split()[-1]\n",
    "\n",
    "file.close()"
   ]
  },
  {
   "cell_type": "code",
   "execution_count": 5,
   "id": "e49d1c99",
   "metadata": {},
   "outputs": [],
   "source": [
    "known = []\n",
    "\n",
    "file = open(path + '/Human_99_splice_sites.tsv')\n",
    "\n",
    "for line in file:\n",
    "    splice_site = line.split()[0] + '_' + str(int(line.split()[1]) + 1) + '_' + str(int(line.split()[2]) + 1) \n",
    "    known.append(splice_site)\n",
    "file.close()"
   ]
  },
  {
   "cell_type": "code",
   "execution_count": 75,
   "id": "df7e553c",
   "metadata": {},
   "outputs": [],
   "source": [
    "summary_file = open(path + '/J26677_summary.tsv')\n",
    "majiq_splice_sites_in100 = defaultdict(list)\n",
    "majiq_splice_sites_all = defaultdict(list)\n",
    "thr_min = 10\n",
    "thr_max = float('Inf')\n",
    "\n",
    "\n",
    "for line in summary_file:\n",
    "    if line.split()[0] != 'Phenotype':\n",
    "        chromosome = chromosomes[line.split()[1]]\n",
    "        first = line.split()[2].split('_')[1].split('-')[0]\n",
    "        second = line.split()[2].split('_')[1].split('-')[1]\n",
    "        depth = int(line.split()[3][0:-1])\n",
    "        splice_site = chromosome + '_' + first + '_' + second\n",
    "        if float(line.split()[-2]) >= 0.05 and float(line.split()[-2]) < 0.95:\n",
    "            if float(line.split()[-1]) >= thr_min and float(line.split()[-1]) < thr_max:\n",
    "                if line.split()[4] == '100':\n",
    "                    majiq_splice_sites_in100[depth].append(splice_site)\n",
    "                majiq_splice_sites_all[depth].append(splice_site)\n",
    "summary_file.close()"
   ]
  },
  {
   "cell_type": "code",
   "execution_count": 76,
   "id": "52331a37",
   "metadata": {},
   "outputs": [
    {
     "name": "stdout",
     "output_type": "stream",
     "text": [
      "50 2031 0.069423929098966\n",
      "100 2389 0.07953118459606534\n",
      "150 2646 0.08730158730158732\n",
      "200 2869 0.0962007668177065\n",
      "250 3034 0.10019775873434411\n",
      "300 3218 0.10627719080174025\n"
     ]
    }
   ],
   "source": [
    "for k in [50, 100, 150, 200, 250, 300]:\n",
    "    print(k, len(majiq_splice_sites_in100[k]), 1 - len(intersection(majiq_splice_sites_in100[k], known))/len(majiq_splice_sites_in100[k]))"
   ]
  },
  {
   "cell_type": "code",
   "execution_count": 77,
   "id": "3942261f",
   "metadata": {},
   "outputs": [
    {
     "name": "stdout",
     "output_type": "stream",
     "text": [
      "50 2727 0.16501650165016502\n",
      "100 3061 0.14799085266252854\n",
      "150 3263 0.1477168250076617\n",
      "200 3440 0.1482558139534884\n",
      "250 3542 0.14426877470355737\n",
      "300 3665 0.14297407912687587\n"
     ]
    }
   ],
   "source": [
    "for k in [50, 100, 150, 200, 250, 300]:\n",
    "    print(k, len(majiq_splice_sites_all[k]), 1 - len(intersection(majiq_splice_sites_all[k], known))/len(majiq_splice_sites_all[k]))"
   ]
  },
  {
   "cell_type": "code",
   "execution_count": null,
   "id": "985f9ef8",
   "metadata": {},
   "outputs": [],
   "source": []
  }
 ],
 "metadata": {
  "kernelspec": {
   "display_name": "Python 3 (ipykernel)",
   "language": "python",
   "name": "python3"
  },
  "language_info": {
   "codemirror_mode": {
    "name": "ipython",
    "version": 3
   },
   "file_extension": ".py",
   "mimetype": "text/x-python",
   "name": "python",
   "nbconvert_exporter": "python",
   "pygments_lexer": "ipython3",
   "version": "3.9.12"
  }
 },
 "nbformat": 4,
 "nbformat_minor": 5
}
