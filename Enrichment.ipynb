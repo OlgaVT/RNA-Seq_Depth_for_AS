{
 "cells": [
  {
   "cell_type": "code",
   "execution_count": null,
   "id": "c1d5261b",
   "metadata": {},
   "outputs": [],
   "source": [
    "import pandas as pd\n",
    "import glob\n",
    "from collections import defaultdict\n",
    "import nease\n",
    "import gseapy as gp"
   ]
  },
  {
   "cell_type": "code",
   "execution_count": null,
   "id": "4d889060",
   "metadata": {},
   "outputs": [],
   "source": [
    "path = \"\"#path to summary files\n",
    "phenotype = 'J26675'#adipose_2, hypothalamus, J26675, J26676, J26677, J26678"
   ]
  },
  {
   "cell_type": "code",
   "execution_count": null,
   "id": "cd1fea6d",
   "metadata": {},
   "outputs": [],
   "source": [
    "def newAS(filename, psi_thr_min, psi_thr_max):\n",
    "    condensed = open(path + filename)\n",
    "    psi_thr_min = psi_thr_min\n",
    "    psi_thr_max = psi_thr_max\n",
    "    \n",
    "    \n",
    "    gene_100_dict = defaultdict(set)\n",
    "    junction_100_dict = defaultdict(set)\n",
    "    \n",
    "    \n",
    "    for line in condensed:\n",
    "        if line.split()[0] != 'Phenotype':\n",
    "            phenotype, gene, junction, depth, sample_n, psi, tpm = line.split()\n",
    "            if float(psi) >= psi_thr_min and float(psi) < psi_thr_max:\n",
    "                if int(sample_n) == 100:\n",
    "                    gene_100_dict[int(depth[:-1])].add(gene)\n",
    "    condensed.close()\n",
    "    \n",
    "    \n",
    "    \n",
    "    return(gene_100_dict[50], gene_100_dict[100], gene_100_dict[150], gene_100_dict[200])\n"
   ]
  },
  {
   "cell_type": "code",
   "execution_count": null,
   "id": "b83ea7ad",
   "metadata": {},
   "outputs": [],
   "source": [
    "in50M, in100M, in150M, in200M = newAS('/Summary/' + phenotype + '_summary.tsv', 0.05, 0.95)"
   ]
  },
  {
   "cell_type": "markdown",
   "id": "80e79bd2",
   "metadata": {},
   "source": [
    "50M"
   ]
  },
  {
   "cell_type": "code",
   "execution_count": null,
   "id": "793d025a",
   "metadata": {},
   "outputs": [],
   "source": [
    "df = pd.read_table(path + '/Enrichment/' + phenotype + '_50M_unified', sep = '\\t', index_col = 'id')"
   ]
  },
  {
   "cell_type": "code",
   "execution_count": null,
   "id": "4d3bf5f2",
   "metadata": {},
   "outputs": [],
   "source": [
    "#Reformat the list of exons skipping events for NEASE\n",
    "df = df[df['event_type'] == 'ES']\n",
    "df['start_coordinates'] = df['start_coordinates'].astype('int')\n",
    "df.head()\n",
    "df_plus = df[df['strand'] == '+']\n",
    "df_minus = df[df['strand'] == '-']\n",
    "df_minus['start_coordinates'] = df_minus['start_coordinates'] - 1\n",
    "columns = ['gene', 'start_coordinates', 'end_coordinates']\n",
    "input_df_minus = pd.DataFrame(df_minus, columns=columns)\n",
    "input_df_plus = pd.DataFrame(df_plus, columns=columns)\n",
    "input_df = pd.concat([input_df_minus,input_df_plus ])\n",
    "\n",
    "#extract those genes with AS detected in 100 subsamples\n",
    "input_df = input_df[input_df['gene'].isin(in50M)]\n",
    "input_df"
   ]
  },
  {
   "cell_type": "code",
   "execution_count": null,
   "id": "8fa57027",
   "metadata": {},
   "outputs": [],
   "source": [
    "#Run NEASE\n",
    "events=nease.run(input_df, organism='Human')"
   ]
  },
  {
   "cell_type": "code",
   "execution_count": null,
   "id": "2b35b298",
   "metadata": {},
   "outputs": [],
   "source": [
    "#Run NEASE enrichment with KEGG\n",
    "nease_enr_50=events.enrich(database=['KEGG']).sort_values('p_value')"
   ]
  },
  {
   "cell_type": "code",
   "execution_count": null,
   "id": "9102eb7c",
   "metadata": {},
   "outputs": [],
   "source": [
    "#Save the results\n",
    "nease_enr_50.to_csv(path + '/Enrichment/' + phenotype + '_50M_nease', sep='\\t')\n",
    "nease_enr_50"
   ]
  },
  {
   "cell_type": "code",
   "execution_count": null,
   "id": "49a6dc0e",
   "metadata": {},
   "outputs": [],
   "source": [
    "#Read the saved results\n",
    "nease_enr_50 = pd.read_csv(path + '/Enrichment/' + phenotype + '_50M_nease', sep='\\t')\n",
    "nease_enr_50[nease_enr_50['adj p_value'] < 0.05]['Pathway name']"
   ]
  },
  {
   "cell_type": "code",
   "execution_count": null,
   "id": "199eb429",
   "metadata": {},
   "outputs": [],
   "source": [
    "nease_50M = set(nease_enr_50[nease_enr_50['adj p_value'] < 0.05]['Pathway name'].to_list())"
   ]
  },
  {
   "cell_type": "markdown",
   "id": "250a09c3",
   "metadata": {},
   "source": [
    "100M"
   ]
  },
  {
   "cell_type": "code",
   "execution_count": null,
   "id": "65334742",
   "metadata": {},
   "outputs": [],
   "source": [
    "df = pd.read_table(path + '/Enrichment/' + phenotype + '_100M_unified', sep = '\\t', index_col = 'id')"
   ]
  },
  {
   "cell_type": "code",
   "execution_count": null,
   "id": "e808331d",
   "metadata": {},
   "outputs": [],
   "source": [
    "#Reformat the list of exons skipping events for NEASE\n",
    "df = df[df['event_type'] == 'ES']\n",
    "df['start_coordinates'] = df['start_coordinates'].astype('int')\n",
    "df.head()\n",
    "df_plus = df[df['strand'] == '+']\n",
    "df_minus = df[df['strand'] == '-']\n",
    "df_minus['start_coordinates'] = df_minus['start_coordinates'] - 1\n",
    "columns = ['gene', 'start_coordinates', 'end_coordinates']\n",
    "input_df_minus = pd.DataFrame(df_minus, columns=columns)\n",
    "input_df_plus = pd.DataFrame(df_plus, columns=columns)\n",
    "input_df = pd.concat([input_df_minus,input_df_plus ])\n",
    "#extract those genes with AS detected in 100 subsamples\n",
    "input_df = input_df[input_df['gene'].isin(in100M)]\n",
    "input_df"
   ]
  },
  {
   "cell_type": "code",
   "execution_count": null,
   "id": "7d8fd5b6",
   "metadata": {},
   "outputs": [],
   "source": [
    "#Run NEASE for 100M\n",
    "events_100=nease.run(input_df, organism='Human')"
   ]
  },
  {
   "cell_type": "code",
   "execution_count": null,
   "id": "e6c760ef",
   "metadata": {},
   "outputs": [],
   "source": [
    "#Run with KEGG\n",
    "nease_enr_100=events_100.enrich(database=['KEGG']).sort_values('p_value')"
   ]
  },
  {
   "cell_type": "code",
   "execution_count": null,
   "id": "e6416a9a",
   "metadata": {},
   "outputs": [],
   "source": [
    "#Save the results\n",
    "nease_enr_100.to_csv(path + '/Enrichment/' + phenotype + '_100M_nease', sep='\\t')\n",
    "nease_enr_100"
   ]
  },
  {
   "cell_type": "code",
   "execution_count": null,
   "id": "da73f723",
   "metadata": {},
   "outputs": [],
   "source": [
    "#Read the saved results\n",
    "nease_enr_100 = pd.read_csv(path + '/Enrichment/' + phenotype + '_100M_nease', sep='\\t')\n",
    "nease_enr_100[nease_enr_100['adj p_value'] < 0.05]['Pathway name']"
   ]
  },
  {
   "cell_type": "code",
   "execution_count": null,
   "id": "57e4215e",
   "metadata": {},
   "outputs": [],
   "source": [
    "nease_100M = set(nease_enr_100[nease_enr_100['adj p_value'] < 0.05]['Pathway name'].to_list())"
   ]
  },
  {
   "cell_type": "markdown",
   "id": "8bdeecb3",
   "metadata": {},
   "source": [
    "150M"
   ]
  },
  {
   "cell_type": "code",
   "execution_count": null,
   "id": "49e5b15c",
   "metadata": {},
   "outputs": [],
   "source": [
    "df = pd.read_table(path + '/Enrichment/' + phenotype + '_150M_unified', sep = '\\t', index_col = 'id')\n"
   ]
  },
  {
   "cell_type": "code",
   "execution_count": null,
   "id": "ca851696",
   "metadata": {},
   "outputs": [],
   "source": [
    "#Reformat the list of exons skipping events for NEASE\n",
    "df = df[df['event_type'] == 'ES']\n",
    "df['start_coordinates'] = df['start_coordinates'].astype('int')\n",
    "df.head()\n",
    "df_plus = df[df['strand'] == '+']\n",
    "df_minus = df[df['strand'] == '-']\n",
    "df_minus['start_coordinates'] = df_minus['start_coordinates'] - 1\n",
    "columns = ['gene', 'start_coordinates', 'end_coordinates']\n",
    "input_df_minus = pd.DataFrame(df_minus, columns=columns)\n",
    "input_df_plus = pd.DataFrame(df_plus, columns=columns)\n",
    "input_df = pd.concat([input_df_minus,input_df_plus ])\n",
    "#extract those genes with AS detected in 100 subsamples\n",
    "input_df = input_df[input_df['gene'].isin(in150M)]\n",
    "input_df"
   ]
  },
  {
   "cell_type": "code",
   "execution_count": null,
   "id": "82c6fdde",
   "metadata": {},
   "outputs": [],
   "source": [
    "#Run NEASE for 150M\n",
    "events_150=nease.run(input_df, organism='Human')"
   ]
  },
  {
   "cell_type": "code",
   "execution_count": null,
   "id": "7796cb82",
   "metadata": {},
   "outputs": [],
   "source": [
    "#Run with KEGG\n",
    "nease_enr_150=events_150.enrich(database=['KEGG']).sort_values('p_value')"
   ]
  },
  {
   "cell_type": "code",
   "execution_count": null,
   "id": "55a1576b",
   "metadata": {},
   "outputs": [],
   "source": [
    "#Save the results\n",
    "nease_enr_150.to_csv(path + '/Enrichment/' + phenotype + '_150M_nease', sep='\\t')\n",
    "nease_enr_150"
   ]
  },
  {
   "cell_type": "code",
   "execution_count": null,
   "id": "77bfc143",
   "metadata": {},
   "outputs": [],
   "source": [
    "#Read the saved results\n",
    "nease_enr_150 = pd.read_csv(path + '/Enrichment/' + phenotype + '_150M_nease', sep='\\t')\n",
    "nease_enr_150[nease_enr_150['adj p_value'] < 0.05]['Pathway name']"
   ]
  },
  {
   "cell_type": "code",
   "execution_count": null,
   "id": "bd7b2798",
   "metadata": {},
   "outputs": [],
   "source": [
    "nease_150M = set(nease_enr_150[nease_enr_150['adj p_value'] < 0.05]['Pathway name'].to_list())"
   ]
  },
  {
   "cell_type": "markdown",
   "id": "70a09768",
   "metadata": {},
   "source": [
    "200M"
   ]
  },
  {
   "cell_type": "code",
   "execution_count": null,
   "id": "b9765a4c",
   "metadata": {},
   "outputs": [],
   "source": [
    "df = pd.read_table(path + '/Enrichment/' + phenotype + '_200M_unified', sep = '\\t', index_col = 'id')\n"
   ]
  },
  {
   "cell_type": "code",
   "execution_count": null,
   "id": "2047675a",
   "metadata": {},
   "outputs": [],
   "source": [
    "#Reformat the list of exons skipping events for NEASE\n",
    "df = df[df['event_type'] == 'ES']\n",
    "df['start_coordinates'] = df['start_coordinates'].astype('int')\n",
    "df_plus = df[df['strand'] == '+']\n",
    "df_minus = df[df['strand'] == '-']\n",
    "df_minus['start_coordinates'] = df_minus['start_coordinates'] - 1\n",
    "columns = ['gene', 'start_coordinates', 'end_coordinates']\n",
    "input_df_minus = pd.DataFrame(df_minus, columns=columns)\n",
    "input_df_plus = pd.DataFrame(df_plus, columns=columns)\n",
    "input_df = pd.concat([input_df_minus,input_df_plus ])\n",
    "#extract those genes with AS detected in 100 subsamples\n",
    "input_df = input_df[input_df['gene'].isin(in200M)]\n",
    "input_df"
   ]
  },
  {
   "cell_type": "code",
   "execution_count": null,
   "id": "aebd3a72",
   "metadata": {},
   "outputs": [],
   "source": [
    "#Run NEASE for 200M\n",
    "events_200=nease.run(input_df, organism='Human')"
   ]
  },
  {
   "cell_type": "code",
   "execution_count": null,
   "id": "6fa2ad1f",
   "metadata": {},
   "outputs": [],
   "source": [
    "#Run with KEGG\n",
    "nease_enr_200=events_200.enrich(database=['KEGG']).sort_values('p_value')"
   ]
  },
  {
   "cell_type": "code",
   "execution_count": null,
   "id": "def93e9b",
   "metadata": {},
   "outputs": [],
   "source": [
    "#Save the results\n",
    "nease_enr_200.to_csv(path + '/Enrichment/' + phenotype + '_200M_nease', sep='\\t')\n",
    "nease_enr_200"
   ]
  },
  {
   "cell_type": "code",
   "execution_count": null,
   "id": "139b0786",
   "metadata": {},
   "outputs": [],
   "source": [
    "#Read the saved results\n",
    "nease_enr_200 = pd.read_csv(path + '/Enrichment/' + phenotype + '_200M_nease', sep='\\t')\n",
    "nease_enr_200[nease_enr_200['adj p_value'] < 0.05]['Pathway name']"
   ]
  },
  {
   "cell_type": "code",
   "execution_count": null,
   "id": "0f690bb7",
   "metadata": {},
   "outputs": [],
   "source": [
    "nease_200M = set(nease_enr_200[nease_enr_200['adj p_value'] < 0.05]['Pathway name'].to_list())"
   ]
  },
  {
   "cell_type": "markdown",
   "id": "49ba00fe",
   "metadata": {},
   "source": [
    "Comparisons"
   ]
  },
  {
   "cell_type": "code",
   "execution_count": null,
   "id": "02b535bd",
   "metadata": {},
   "outputs": [],
   "source": [
    "nease_enr_200[nease_enr_200['Pathway name'].isin(nease_200M - nease_50M)].to_csv(path + '/Enrichment/' + phenotype + '_200M_50M')"
   ]
  },
  {
   "cell_type": "code",
   "execution_count": null,
   "id": "79c6e579",
   "metadata": {},
   "outputs": [],
   "source": [
    "nease_enr_200[nease_enr_200['Pathway name'].isin(nease_200M - nease_100M)].to_csv(path + '/Enrichment/' + phenotype + '_200M_100M')"
   ]
  },
  {
   "cell_type": "code",
   "execution_count": null,
   "id": "a44ac975",
   "metadata": {},
   "outputs": [],
   "source": [
    "nease_enr_200[nease_enr_200['Pathway name'].isin(nease_200M - nease_150M)].to_csv(path + '/Enrichment/' + phenotype + '_200M_150M')"
   ]
  },
  {
   "cell_type": "code",
   "execution_count": null,
   "id": "a7161f00",
   "metadata": {},
   "outputs": [],
   "source": [
    "nease_200M - nease_50M"
   ]
  },
  {
   "cell_type": "code",
   "execution_count": null,
   "id": "c4d5991a",
   "metadata": {},
   "outputs": [],
   "source": [
    "nease_200M - nease_100M"
   ]
  },
  {
   "cell_type": "code",
   "execution_count": null,
   "id": "362630ed",
   "metadata": {},
   "outputs": [],
   "source": [
    "nease_200M - nease_150M"
   ]
  },
  {
   "cell_type": "code",
   "execution_count": null,
   "id": "b965abc7",
   "metadata": {},
   "outputs": [],
   "source": [
    "nease_200M - nease_50M - nease_100M - nease_150M"
   ]
  },
  {
   "cell_type": "code",
   "execution_count": null,
   "id": "3165f5d8",
   "metadata": {},
   "outputs": [],
   "source": [
    "nease_enr_200[nease_enr_200['Pathway name'].isin(nease_200M - nease_150M)]"
   ]
  },
  {
   "cell_type": "code",
   "execution_count": null,
   "id": "30e63afe",
   "metadata": {},
   "outputs": [],
   "source": []
  }
 ],
 "metadata": {
  "kernelspec": {
   "display_name": "Python 3 (ipykernel)",
   "language": "python",
   "name": "python3"
  },
  "language_info": {
   "codemirror_mode": {
    "name": "ipython",
    "version": 3
   },
   "file_extension": ".py",
   "mimetype": "text/x-python",
   "name": "python",
   "nbconvert_exporter": "python",
   "pygments_lexer": "ipython3",
   "version": "3.9.12"
  }
 },
 "nbformat": 4,
 "nbformat_minor": 5
}
