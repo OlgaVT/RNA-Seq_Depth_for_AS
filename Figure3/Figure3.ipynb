{
 "cells": [
  {
   "cell_type": "code",
   "execution_count": 1,
   "id": "60b4dd65",
   "metadata": {},
   "outputs": [],
   "source": [
    "import pandas as pd\n",
    "import glob\n",
    "from collections import defaultdict\n",
    "from statistics import median\n",
    "import numpy as np\n",
    "import pymannkendall as mk\n",
    "from scipy.stats import mannwhitneyu\n",
    "from scipy.stats import wilcoxon\n",
    "import matplotlib.pyplot as plt\n",
    "import seaborn as sns\n",
    "import matplotlib.image as mpimg\n",
    "from gprofiler import GProfiler"
   ]
  },
  {
   "cell_type": "code",
   "execution_count": 2,
   "id": "ef719345",
   "metadata": {},
   "outputs": [],
   "source": [
    "def format_func_K(value, tick_number):\n",
    "    if value % 1000 == 0 and value != 0:\n",
    "        value = '{:.0f}'.format(value / 1000)\n",
    "        return str(value) + \"K\""
   ]
  },
  {
   "cell_type": "code",
   "execution_count": 3,
   "id": "5950b69a",
   "metadata": {},
   "outputs": [],
   "source": [
    "def Counting(filename, tpm_thr_min, tpm_thr_max, psi_thr_min, psi_thr_max):\n",
    "    condensed = open(path + filename)\n",
    "    tpm_thr_min = tpm_thr_min\n",
    "    tpm_thr_max = tpm_thr_max\n",
    "    psi_thr_min = psi_thr_min\n",
    "    psi_thr_max = psi_thr_max\n",
    "    \n",
    "    gene_depth_all_dict = defaultdict(set)\n",
    "    junction_depth_all_dict = defaultdict(set)\n",
    "    \n",
    "    gene_depth_100_dict = defaultdict(set)\n",
    "    junction_depth_100_dict = defaultdict(set)\n",
    "    \n",
    "    gene_depth_dict = defaultdict(set)\n",
    "    junction_depth_dict = defaultdict(set)\n",
    "\n",
    "    for line in condensed:\n",
    "        phenotype, gene, junction, depth, sample_n, psi, tpm = line.split()\n",
    "        if phenotype != 'Phenotype':\n",
    "            if float(psi) >= psi_thr_min and float(psi) < psi_thr_max:\n",
    "                if float(tpm) >= tpm_thr_min and float(tpm) < tpm_thr_max:\n",
    "                    if int(sample_n) == 100:\n",
    "                        gene_depth_100_dict[int(depth[:-1])].add(gene)\n",
    "                        junction_depth_100_dict[int(depth[:-1])].add(junction)\n",
    "                    else:\n",
    "                        junction_depth_dict[int(depth[:-1])].add(junction)\n",
    "                    gene_depth_all_dict[int(depth[:-1])].add(gene)\n",
    "                    junction_depth_all_dict[int(depth[:-1])].add(junction)\n",
    "                \n",
    "                \n",
    "    condensed.close()\n",
    "    \n",
    "    \n",
    "    for k in gene_depth_all_dict.keys():\n",
    "        gene_depth_dict[k] = gene_depth_all_dict[k] - gene_depth_100_dict[k]\n",
    "    \n",
    "    x = []\n",
    "    gene_all_y = []\n",
    "    gene_100_y = []\n",
    "    gene_y = []\n",
    "    \n",
    "    junction_all_y = []\n",
    "    junction_100_y = []\n",
    "    junction_y = []\n",
    "    \n",
    "    for k, v in sorted(gene_depth_all_dict.items()):\n",
    "        x.append(k)\n",
    "        gene_all_y.append(len(v))\n",
    "    \n",
    "    for k, v in sorted(gene_depth_100_dict.items()):\n",
    "        gene_100_y.append(len(v))\n",
    "    \n",
    "    for k, v in sorted(gene_depth_dict.items()):\n",
    "        gene_y.append(len(v))\n",
    "    \n",
    "    \n",
    "    for k, v in sorted(junction_depth_all_dict.items()):\n",
    "        junction_all_y.append(len(v))\n",
    "    \n",
    "    for k, v in sorted(junction_depth_100_dict.items()):\n",
    "        junction_100_y.append(len(v))\n",
    "    \n",
    "    for k, v in sorted(junction_depth_dict.items()):\n",
    "        junction_y.append(len(v))\n",
    "\n",
    "    return(x, gene_all_y, gene_100_y, gene_y, junction_all_y, junction_100_y, junction_y)\n"
   ]
  },
  {
   "cell_type": "code",
   "execution_count": null,
   "id": "821f0d0d",
   "metadata": {},
   "outputs": [],
   "source": [
    "def genelistExtraction(filename, tpm_thr_min, tpm_thr_max, psi_thr_min, psi_thr_max, seq_depth, typ):\n",
    "    condensed = open(path + filename)\n",
    "    tpm_thr_min = tpm_thr_min\n",
    "    tpm_thr_max = tpm_thr_max\n",
    "    psi_thr_min = psi_thr_min\n",
    "    psi_thr_max = psi_thr_max\n",
    "    \n",
    "    gene_depth_all_dict = defaultdict(set)\n",
    "    junction_depth_all_dict = defaultdict(set)\n",
    "    \n",
    "    gene_depth_100_dict = defaultdict(set)\n",
    "    junction_depth_100_dict = defaultdict(set)\n",
    "    \n",
    "    gene_depth_dict = defaultdict(set)\n",
    "    junction_depth_dict = defaultdict(set)\n",
    "\n",
    "    for line in condensed:\n",
    "        phenotype, gene, junction, depth, sample_n, psi, tpm = line.split()\n",
    "        if phenotype != 'Phenotype':\n",
    "            if float(psi) >= psi_thr_min and float(psi) < psi_thr_max:\n",
    "                if float(tpm) >= tpm_thr_min and float(tpm) < tpm_thr_max:\n",
    "                    if int(sample_n) == 100:\n",
    "                        gene_depth_100_dict[int(depth[:-1])].add(gene)\n",
    "                        junction_depth_100_dict[int(depth[:-1])].add(junction)\n",
    "                    else:\n",
    "                        junction_depth_dict[int(depth[:-1])].add(junction)\n",
    "                    gene_depth_all_dict[int(depth[:-1])].add(gene)\n",
    "                    junction_depth_all_dict[int(depth[:-1])].add(junction)\n",
    "                \n",
    "                \n",
    "    condensed.close()\n",
    "    \n",
    "    \n",
    "    if typ == 'genes_100':\n",
    "        for i in gene_depth_100_dict[seq_depth]:\n",
    "            print(i)\n",
    "            \n",
    "    if typ == 'genes_all':\n",
    "        for i in gene_depth_all_dict[seq_depth]:\n",
    "            print(i) \n",
    "\n",
    "    if typ == 'junctions_100':\n",
    "        for i in junction_depth_100_dict[seq_depth]:\n",
    "            print(i)\n",
    "            \n",
    "    if typ == 'junctions_all':\n",
    "        for i in junction_depth_all_dict[seq_depth]:\n",
    "            print(i) \n",
    "  \n",
    "    return()\n"
   ]
  },
  {
   "cell_type": "code",
   "execution_count": 32,
   "id": "b53eb35b",
   "metadata": {},
   "outputs": [],
   "source": [
    "#Visualisation\n",
    "def Plotting(plot_title, gene_100_y, gene_y, tpm_thr_min, tpm_thr_max, max_y):\n",
    "   \n",
    "    fig, ax = plt.subplots(figsize=(15, 10))\n",
    "    barWidth = 0.5\n",
    "    ind1 = np.arange(6, step=1) #6 for adipose and DCM;  4 for hypothalamus\n",
    "    p1_1 = plt.bar(ind1, gene_100_y, width=barWidth-0.1, color=\"#1E88E5\")\n",
    "    p2_1 = plt.bar(ind1, gene_y, bottom=gene_100_y, width=barWidth-0.1, color = '#FFC107')\n",
    "    \n",
    "    plt.xticks([r for r in [ 0, 1, 2, 3, 4, 5]], \n",
    "           ['50', '100', '150', '200', '250', '300'])#adipose, DCM\n",
    "    \n",
    "    #plt.xticks([r for r in [ 0, 1, 2, 3]], \n",
    "    #       ['50', '100', '150', '200'])#hypothalamus\n",
    "    \n",
    "    plt.legend((p1_1[0], p2_1[0]), ('100', '<100'), fontsize=40, loc='best')\n",
    "    plt.yticks(fontsize=30)\n",
    "    plt.xticks(fontsize=30)\n",
    "    ax.yaxis.set_major_formatter(plt.FuncFormatter(format_func_K))\n",
    "    plt.ylabel(str(tpm_thr_min) + '<=TPM<' + str(tpm_thr_max), fontsize=40)\n",
    "\n",
    "#    plt.title(plot_title, fontsize=40)\n",
    "    plt.ylim(0, max_y)\n",
    "    plt.show()"
   ]
  },
  {
   "cell_type": "code",
   "execution_count": 10,
   "id": "46ff25ff",
   "metadata": {},
   "outputs": [],
   "source": [
    "path = #path to Figure 3 summary files"
   ]
  },
  {
   "cell_type": "markdown",
   "id": "1372d8e9",
   "metadata": {},
   "source": [
    "ADIPOSE"
   ]
  },
  {
   "cell_type": "code",
   "execution_count": null,
   "id": "347ecc56",
   "metadata": {},
   "outputs": [],
   "source": [
    "phenotype = \"adipose_1\" #adipose_1; adipose_2"
   ]
  },
  {
   "cell_type": "code",
   "execution_count": 38,
   "id": "2b467ca0",
   "metadata": {},
   "outputs": [],
   "source": [
    "file = '/adipose_1_summary.tsv' #adipose_1_summary.tsv\n",
    "x, one_gene_all_y, one_gene_100_y, one_gene_y, one_junction_all_y, one_junction_100_y, one_junction_y = Counting(file, 0, 0.1, 0.05, 0.95)\n",
    "x, two_gene_all_y, two_gene_100_y, two_gene_y, two_junction_all_y, two_junction_100_y, two_junction_y = Counting(file, 0.1, 0.5, 0.05, 0.95)\n",
    "x, three_gene_all_y, three_gene_100_y, three_gene_y, three_junction_all_y, three_junction_100_y, three_junction_y = Counting(file, 0.5, 1, 0.05, 0.95)\n",
    "x, four_gene_all_y, four_gene_100_y, four_gene_y, four_junction_all_y, four_junction_100_y, four_junction_y = Counting(file, 1, 10, 0.05, 0.95)\n",
    "x, five_gene_all_y, five_gene_100_y, five_gene_y, five_junction_all_y, five_junction_100_y, five_junction_y = Counting(file, 10, float('inf'), 0.05, 0.95)\n",
    "x, six_gene_all_y, six_gene_100_y, six_gene_y, six_junction_all_y, six_junction_100_y, six_junction_y = Counting(file, 1, float('inf'), 0.05, 0.95)"
   ]
  },
  {
   "cell_type": "code",
   "execution_count": 40,
   "id": "3f1b5a39",
   "metadata": {},
   "outputs": [
    {
     "data": {
      "text/plain": [
       "[2018, 3807, 5087, 6044, 6885, 7675]"
      ]
     },
     "execution_count": 40,
     "metadata": {},
     "output_type": "execute_result"
    }
   ],
   "source": [
    "three_junction_100_y"
   ]
  },
  {
   "cell_type": "code",
   "execution_count": null,
   "id": "13c4f8c2",
   "metadata": {},
   "outputs": [],
   "source": [
    "file = 'adipose_1_summary.tsv' #adipose_1_summary.tsv\n",
    "genelistExtraction(file, 0, 0.1, 0.05, 0.95, 100, 'junctions_all')\n",
    "#filename, tpm_thr_min, tpm_thr_max, psi_thr_min, psi_thr_max, seq_depth, typ\n",
    "#seq_depth - 50,100,150,200,250,300\n",
    "#typ - genes_all, genes_100, junctions_100, junctions_all"
   ]
  },
  {
   "cell_type": "code",
   "execution_count": null,
   "id": "54c4a111",
   "metadata": {},
   "outputs": [],
   "source": [
    "for i in (one_gene_all_y, two_gene_all_y, three_gene_all_y, four_gene_all_y, five_gene_all_y, six_gene_all_y):\n",
    "    result = mk.original_test(i)\n",
    "    print('\\n')\n",
    "    print(result)"
   ]
  },
  {
   "cell_type": "code",
   "execution_count": null,
   "id": "441cff73",
   "metadata": {},
   "outputs": [],
   "source": [
    "for i in (one_gene_100_y, two_gene_100_y, three_gene_100_y, four_gene_100_y, five_gene_100_y, six_gene_100_y):\n",
    "    result = mk.original_test(i)\n",
    "    print('\\n')\n",
    "    print(result)"
   ]
  },
  {
   "cell_type": "code",
   "execution_count": null,
   "id": "03a7fd1c",
   "metadata": {},
   "outputs": [],
   "source": [
    "for i in (one_junction_all_y, two_junction_all_y, three_junction_all_y, four_junction_all_y, five_junction_all_y, six_junction_all_y):\n",
    "    result = mk.original_test(i)\n",
    "    print('\\n')\n",
    "    print(result)"
   ]
  },
  {
   "cell_type": "code",
   "execution_count": null,
   "id": "9fe61efe",
   "metadata": {},
   "outputs": [],
   "source": [
    "for i in (one_junction_100_y, two_junction_100_y, three_junction_100_y, four_junction_100_y, five_junction_100_y, six_junction_100_y):\n",
    "    result = mk.original_test(i)\n",
    "    print('\\n')\n",
    "    print(result)"
   ]
  },
  {
   "cell_type": "code",
   "execution_count": 30,
   "id": "4ac74797",
   "metadata": {},
   "outputs": [],
   "source": [
    "#Parameters for genes\n",
    "tpm_thr_min = 1\n",
    "tpm_thr_max = float('inf')\n",
    "y_max = max(max(one_gene_all_y), max(two_gene_all_y), max(three_gene_all_y), max(four_gene_all_y), max(five_gene_all_y), max(six_gene_all_y))\n",
    "\n",
    "if tpm_thr_min == 0:\n",
    "    bottom = one_gene_100_y\n",
    "    top = one_gene_y\n",
    "    together = one_gene_all_y\n",
    "    exp_level = 'one'\n",
    "\n",
    "if tpm_thr_min == 0.1:\n",
    "    bottom = two_gene_100_y\n",
    "    top = two_gene_y\n",
    "    together = two_gene_all_y\n",
    "    exp_level = 'two'\n",
    "    \n",
    "if tpm_thr_min == 0.5:\n",
    "    bottom = three_gene_100_y\n",
    "    top = three_gene_y\n",
    "    together = three_gene_all_y\n",
    "    exp_level = 'three'\n",
    "    \n",
    "if tpm_thr_min == 1 and tpm_thr_max == 10:\n",
    "    bottom = four_gene_100_y\n",
    "    top = four_gene_y\n",
    "    together = four_gene_all_y\n",
    "    exp_level = 'four'\n",
    "    \n",
    "if tpm_thr_min == 10:\n",
    "    bottom = five_gene_100_y\n",
    "    top = five_gene_y\n",
    "    together = five_gene_all_y\n",
    "    exp_level = 'five'\n",
    "    \n",
    "if tpm_thr_min == 1 and tpm_thr_max == float('inf'):\n",
    "    bottom = six_gene_100_y\n",
    "    top = six_gene_y\n",
    "    together = six_gene_all_y\n",
    "    exp_level = 'six'\n"
   ]
  },
  {
   "cell_type": "code",
   "execution_count": 33,
   "id": "a4948afd",
   "metadata": {},
   "outputs": [
    {
     "data": { },
     "metadata": {
      "needs_background": "light"
     },
     "output_type": "display_data"
    }
   ],
   "source": [
    "Plotting('Adipose (pre-treatment)', bottom, top, tpm_thr_min, tpm_thr_max,  y_max + 100)"
   ]
  },
 
  {
   "cell_type": "code",
   "execution_count": 36,
   "id": "a43d80d3",
   "metadata": {},
   "outputs": [],
   "source": [
    "#Parameters\n",
    "tpm_thr_min = 0.5\n",
    "tpm_thr_max = 1#float('inf')\n",
    "y_max = max(max(one_junction_all_y), max(two_junction_all_y), max(three_junction_all_y), max(four_junction_all_y), max(five_junction_all_y), max(six_junction_all_y))\n",
    "\n",
    "if tpm_thr_min == 0:\n",
    "    bottom = one_junction_100_y\n",
    "    top = one_junction_y\n",
    "    together = one_junction_all_y\n",
    "    exp_level = 'one'\n",
    "\n",
    "if tpm_thr_min == 0.1:\n",
    "    bottom = two_junction_100_y\n",
    "    top = two_junction_y\n",
    "    together = two_junction_all_y\n",
    "    exp_level = 'two'\n",
    "    \n",
    "if tpm_thr_min == 0.5:\n",
    "    bottom = three_junction_100_y\n",
    "    top = three_junction_y\n",
    "    together = three_junction_all_y\n",
    "    exp_level = 'three'\n",
    "    \n",
    "if tpm_thr_min == 1 and tpm_thr_max == 10:\n",
    "    bottom = four_junction_100_y\n",
    "    top = four_junction_y\n",
    "    together = four_junction_all_y\n",
    "    exp_level = 'four'\n",
    "    \n",
    "if tpm_thr_min == 10:\n",
    "    bottom = five_junction_100_y\n",
    "    top = five_junction_y\n",
    "    together = five_junction_all_y\n",
    "    exp_level = 'five'\n",
    "    \n",
    "if tpm_thr_min == 1 and tpm_thr_max == float('inf'):\n",
    "    bottom = six_junction_100_y\n",
    "    top = six_junction_y\n",
    "    together = six_junction_all_y\n",
    "    exp_level = 'six'\n"
   ]
  },
  {
   "cell_type": "code",
   "execution_count": 37,
   "id": "270080bf",
   "metadata": {},
   "outputs": [
    {
     "data": {

     },
     "metadata": {
      "needs_background": "light"
     },
     "output_type": "display_data"
    }
   ],
   "source": [
    "Plotting('Adipose (pre-treatment)', bottom, top, tpm_thr_min, tpm_thr_max, y_max + 100)"
   ]
  },
  
 
  {
   "cell_type": "markdown",
   "id": "5d655759",
   "metadata": {},
   "source": [
    "HYPOTHALAMUS"
   ]
  },
  {
   "cell_type": "code",
   "execution_count": 7,
   "id": "548e3d8c",
   "metadata": {},
   "outputs": [],
   "source": [
    "file = '/hypothalamus_summary.tsv'\n",
    "x, one_gene_all_y, one_gene_100_y, one_gene_y, one_junction_all_y, one_junction_100_y, one_junction_y = Counting(file, 0, 0.1, 0.05, 0.95)\n",
    "x, two_gene_all_y, two_gene_100_y, two_gene_y, two_junction_all_y, two_junction_100_y, two_junction_y = Counting(file, 0.1, 0.5, 0.05, 0.95)\n",
    "x, three_gene_all_y, three_gene_100_y, three_gene_y, three_junction_all_y, three_junction_100_y, three_junction_y = Counting(file, 0.5, 1, 0.05, 0.95)\n",
    "x, four_gene_all_y, four_gene_100_y, four_gene_y, four_junction_all_y, four_junction_100_y, four_junction_y = Counting(file, 1, 10, 0.05, 0.95)\n",
    "x, five_gene_all_y, five_gene_100_y, five_gene_y, five_junction_all_y, five_junction_100_y, five_junction_y = Counting(file, 10, float('inf'), 0.05, 0.95)\n",
    "x, six_gene_all_y, six_gene_100_y, six_gene_y, six_junction_all_y, six_junction_100_y, six_junction_y = Counting(file, 1, float('inf'), 0.05, 0.95)\n"
   ]
  },
  {
   "cell_type": "code",
   "execution_count": 9,
   "id": "7887ff85",
   "metadata": {},
   "outputs": [
    {
     "data": {
      "text/plain": [
       "[3642, 6416, 8593, 11194]"
      ]
     },
     "execution_count": 9,
     "metadata": {},
     "output_type": "execute_result"
    }
   ],
   "source": [
    "one_junction_100_y"
   ]
  },
  {
   "cell_type": "code",
   "execution_count": null,
   "id": "311d3338",
   "metadata": {},
   "outputs": [],
   "source": [
    "genelistExtraction(file, 0, 0.1, 0.05, 0.95, 100, 'junctions_all')\n",
    "#filename, tpm_thr_min, tpm_thr_max, psi_thr_min, psi_thr_max, seq_depth, typ\n",
    "#seq_depth - 50,100,150,200\n",
    "#typ - genes_all, genes_100, junctions_100, junctions_all"
   ]
  },
  {
   "cell_type": "code",
   "execution_count": null,
   "id": "4d52fe07",
   "metadata": {},
   "outputs": [],
   "source": [
    "for i in (one_gene_all_y, two_gene_all_y, three_gene_all_y, four_gene_all_y, five_gene_all_y, six_gene_all_y):\n",
    "    result = mk.original_test(i)\n",
    "    print('\\n')\n",
    "    print(result)"
   ]
  },
  {
   "cell_type": "code",
   "execution_count": null,
   "id": "16cce35f",
   "metadata": {},
   "outputs": [],
   "source": [
    "for i in (one_gene_100_y, two_gene_100_y, three_gene_100_y, four_gene_100_y, five_gene_100_y, six_gene_100_y):\n",
    "    result = mk.original_test(i)\n",
    "    print('\\n')\n",
    "    print(result)"
   ]
  },
  {
   "cell_type": "code",
   "execution_count": null,
   "id": "552ac460",
   "metadata": {},
   "outputs": [],
   "source": [
    "for i in (one_junction_all_y, two_junction_all_y, three_junction_all_y, four_junction_all_y, five_junction_all_y, six_junction_all_y):\n",
    "    result = mk.original_test(i)\n",
    "    print('\\n')\n",
    "    print(result)"
   ]
  },
  {
   "cell_type": "code",
   "execution_count": null,
   "id": "4d7b0d25",
   "metadata": {},
   "outputs": [],
   "source": [
    "for i in (one_junction_100_y, two_junction_100_y, three_junction_100_y, four_junction_100_y, five_junction_100_y, six_junction_100_y):\n",
    "    result = mk.original_test(i)\n",
    "    print('\\n')\n",
    "    print(result)"
   ]
  },
  {
   "cell_type": "code",
   "execution_count": null,
   "id": "6a051ee4",
   "metadata": {},
   "outputs": [],
   "source": [
    "#Parameters\n",
    "tpm_thr_min = 1\n",
    "tpm_thr_max = float('inf')\n",
    "y_max = max(max(one_gene_all_y), max(two_gene_all_y), max(three_gene_all_y), max(four_gene_all_y), max(five_gene_all_y), max(six_gene_all_y))\n",
    "\n",
    "if tpm_thr_min == 0:\n",
    "    bottom = one_gene_100_y\n",
    "    top = one_gene_y\n",
    "    together = one_gene_all_y\n",
    "    exp_level = 'one'\n",
    "\n",
    "if tpm_thr_min == 0.1:\n",
    "    bottom = two_gene_100_y\n",
    "    top = two_gene_y\n",
    "    together = two_gene_all_y\n",
    "    exp_level = 'two'\n",
    "    \n",
    "if tpm_thr_min == 0.5:\n",
    "    bottom = three_gene_100_y\n",
    "    top = three_gene_y\n",
    "    together = three_gene_all_y\n",
    "    exp_level = 'three'\n",
    "    \n",
    "if tpm_thr_min == 1 and tpm_thr_max == 10:\n",
    "    bottom = four_gene_100_y\n",
    "    top = four_gene_y\n",
    "    together = four_gene_all_y\n",
    "    exp_level = 'four'\n",
    "    \n",
    "if tpm_thr_min == 10:\n",
    "    bottom = five_gene_100_y\n",
    "    top = five_gene_y\n",
    "    together = five_gene_all_y\n",
    "    exp_level = 'five'\n",
    "    \n",
    "if tpm_thr_min == 1 and tpm_thr_max == float('inf'):\n",
    "    bottom = six_gene_100_y\n",
    "    top = six_gene_y\n",
    "    together = six_gene_all_y\n",
    "    exp_level = 'six'\n"
   ]
  },
  {
   "cell_type": "code",
   "execution_count": null,
   "id": "b80c3131",
   "metadata": {
    "scrolled": true
   },
   "outputs": [],
   "source": [
    "Plotting('Hypothalamus', bottom, top, tpm_thr_min, tpm_thr_max,  y_max+ 100)"
   ]
  },
  {
   "cell_type": "code",
   "execution_count": null,
   "id": "a3505c64",
   "metadata": {},
   "outputs": [],
   "source": [
    "#Parameters\n",
    "tpm_thr_min = 1\n",
    "tpm_thr_max = float('inf')\n",
    "y_max = max(max(one_junction_all_y), max(two_junction_all_y), max(three_junction_all_y), max(four_junction_all_y), max(five_junction_all_y), max(six_junction_all_y))\n",
    "\n",
    "if tpm_thr_min == 0:\n",
    "    bottom = one_junction_100_y\n",
    "    top = one_junction_y\n",
    "    together = one_junction_all_y\n",
    "    exp_level = 'one'\n",
    "\n",
    "if tpm_thr_min == 0.1:\n",
    "    bottom = two_junction_100_y\n",
    "    top = two_junction_y\n",
    "    together = two_junction_all_y\n",
    "    exp_level = 'two'\n",
    "    \n",
    "if tpm_thr_min == 0.5:\n",
    "    bottom = three_junction_100_y\n",
    "    top = three_junction_y\n",
    "    together = three_junction_all_y\n",
    "    exp_level = 'three'\n",
    "    \n",
    "if tpm_thr_min == 1 and tpm_thr_max == 10:\n",
    "    bottom = four_junction_100_y\n",
    "    top = four_junction_y\n",
    "    together = four_junction_all_y\n",
    "    exp_level = 'four'\n",
    "    \n",
    "if tpm_thr_min == 10:\n",
    "    bottom = five_junction_100_y\n",
    "    top = five_junction_y\n",
    "    together = five_junction_all_y\n",
    "    exp_level = 'five'\n",
    "    \n",
    "if tpm_thr_min == 1 and tpm_thr_max == float('inf'):\n",
    "    bottom = six_junction_100_y\n",
    "    top = six_junction_y\n",
    "    together = six_junction_all_y\n",
    "    exp_level = 'six'\n"
   ]
  },
  {
   "cell_type": "code",
   "execution_count": null,
   "id": "9ebf7240",
   "metadata": {},
   "outputs": [],
   "source": [
    "Plotting('Hypothalamus', bottom, top, tpm_thr_min, tpm_thr_max, y_max + 100)"
   ]
  },
  {
   "cell_type": "markdown",
   "id": "ac63034c",
   "metadata": {},
   "source": [
    "DCM"
   ]
  },
  {
   "cell_type": "code",
   "execution_count": null,
   "id": "5156da33",
   "metadata": {},
   "outputs": [],
   "source": [
    "phenotype = 'J26675'#J26675, J26676, J26677. J26678"
   ]
  },
  {
   "cell_type": "code",
   "execution_count": null,
   "id": "55eea35d",
   "metadata": {},
   "outputs": [],
   "source": [
    "tpm_thr_min = 10\n",
    "tpm_thr_max = float('inf')\n",
    "d, together_gene_1, bottom_gene_1, top_gene_1, together_junction_1, bottom_junction_1, top_junction_1 = Counting('/J26675_summary.tsv', tpm_thr_min, tpm_thr_max, 0.05, 0.95)\n",
    "d, together_gene_2, bottom_gene_2, top_gene_2, together_junction_2, bottom_junction_2, top_junction_2 = Counting('/J26676_summary.tsv', tpm_thr_min, tpm_thr_max, 0.05, 0.95)\n",
    "d, together_gene_3, bottom_gene_3, top_gene_3, together_junction_3, bottom_junction_3, top_junction_3 = Counting('/J26677_summary.tsv', tpm_thr_min, tpm_thr_max, 0.05, 0.95)\n",
    "d, together_gene_4, bottom_gene_4, top_gene_4, together_junction_4, bottom_junction_4, top_junction_4 = Counting('/J26678_summary.tsv', tpm_thr_min, tpm_thr_max, 0.05, 0.95)\n"
   ]
  },
  {
   "cell_type": "code",
   "execution_count": null,
   "id": "75c77f9c",
   "metadata": {},
   "outputs": [],
   "source": [
    "print(together_junction_1)\n",
    "print(together_junction_2)\n",
    "\n",
    "print(together_junction_3)\n",
    "\n",
    "print(together_junction_4)\n"
   ]
  },
  {
   "cell_type": "code",
   "execution_count": null,
   "id": "371fe8b6",
   "metadata": {},
   "outputs": [],
   "source": [
    "print(bottom_junction_1)\n",
    "print(bottom_junction_2)\n",
    "\n",
    "print(bottom_junction_3)\n",
    "\n",
    "print(bottom_junction_4)\n"
   ]
  },
  {
   "cell_type": "code",
   "execution_count": null,
   "id": "101876e1",
   "metadata": {},
   "outputs": [],
   "source": [
    "file = '/J26675_summary.tsv'\n",
    "genelistExtraction(file, 0, 0.1, 0.05, 0.95, 100, 'junctions_all')\n",
    "#filename, tpm_thr_min, tpm_thr_max, psi_thr_min, psi_thr_max, seq_depth, typ\n",
    "#seq_depth - 50,100,150,200, 250, 300\n",
    "#typ - genes_all, genes_100, junctions_100, junctions_all"
   ]
  },
  {
   "cell_type": "code",
   "execution_count": null,
   "id": "5a8facc6",
   "metadata": {},
   "outputs": [],
   "source": [
    "for i in (together_gene_1, together_gene_2, together_gene_3, together_gene_4):\n",
    "    result = mk.original_test(i)\n",
    "    print('\\n')\n",
    "    print(result)"
   ]
  },
  {
   "cell_type": "code",
   "execution_count": null,
   "id": "99951368",
   "metadata": {},
   "outputs": [],
   "source": [
    "for i in (bottom_gene_1, bottom_gene_2, bottom_gene_3, bottom_gene_4):\n",
    "    result = mk.original_test(i)\n",
    "    print('\\n')\n",
    "    print(result)"
   ]
  },
  {
   "cell_type": "code",
   "execution_count": null,
   "id": "7b918b99",
   "metadata": {},
   "outputs": [],
   "source": [
    "for i in (together_junction_1, together_junction_2, together_junction_3, together_junction_4):\n",
    "    result = mk.original_test(i)\n",
    "    print('\\n')\n",
    "    print(result)"
   ]
  },
  {
   "cell_type": "code",
   "execution_count": null,
   "id": "f5f3ead0",
   "metadata": {},
   "outputs": [],
   "source": [
    "for i in (bottom_junction_1, bottom_junction_2, bottom_junction_3, bottom_junction_4):\n",
    "    result = mk.original_test(i)\n",
    "    print('\\n')\n",
    "    print(result)"
   ]
  },
  {
   "cell_type": "code",
   "execution_count": null,
   "id": "d851d279",
   "metadata": {},
   "outputs": [],
   "source": [
    "#Visualisation\n",
    "fig, ax = plt.subplots(figsize=(15, 10))\n",
    "#plt.figure(figsize=(20,10))\n",
    "y_max = 6000\n",
    "barWidth = 0.5\n",
    "\n",
    "ind1 = np.arange(18, step=3)\n",
    "ind2 = [x + barWidth for x in ind1]\n",
    "ind3 = [x + barWidth for x in ind2]\n",
    "ind4 = [x + barWidth for x in ind3]\n",
    "\n",
    "p1_5 = plt.bar(ind1, bottom_gene_1, width=barWidth-0.1, color=\"#1E88E5\")\n",
    "p2_5 = plt.bar(ind1, top_gene_1, bottom=bottom_gene_1, width=barWidth-0.1, color = '#FFC107')\n",
    "\n",
    "p1_6 = plt.bar(ind2, bottom_gene_2, width=barWidth-0.1, color=\"#1E88E5\")\n",
    "p2_6 = plt.bar(ind2, top_gene_2, bottom=bottom_gene_2, width=barWidth-0.1, color = '#FFC107')\n",
    "\n",
    "p1_7 = plt.bar(ind3, bottom_gene_3, width=barWidth-0.1, color=\"#1E88E5\")\n",
    "p2_7 = plt.bar(ind3, top_gene_3, bottom=bottom_gene_3, width=barWidth-0.1, color = '#FFC107')\n",
    "\n",
    "p1_8 = plt.bar(ind4, bottom_gene_4, width=barWidth-0.1, color=\"#1E88E5\")\n",
    "p2_8 = plt.bar(ind4, top_gene_4, bottom=bottom_gene_4, width=barWidth-0.1, color = '#FFC107')\n",
    "\n",
    "\n",
    "\n",
    "\n",
    "plt.xticks([r + barWidth for r in [ 0, 3, 6, 9, 12, 15]], \n",
    "           ['50M', '100M', '150M', '200M', '250M', '300M'],\n",
    "          fontsize=20)\n",
    "ax.yaxis.set_major_formatter(plt.FuncFormatter(format_func_K))\n",
    "\n",
    "plt.legend((p1_5[0], p2_5[0]), ('100', '<100'), fontsize=40, loc='best')\n",
    "plt.yticks(fontsize=40)\n",
    "plt.xticks(fontsize=40)\n",
    "\n",
    "plt.ylabel(str(tpm_thr_min) + '<=TPM<' + str(tpm_thr_max), fontsize=40)\n",
    "\n",
    "plt.ylim(0, y_max)\n",
    "\n",
    "plt.show()"
   ]
  },
  {
   "cell_type": "code",
   "execution_count": null,
   "id": "a79ec0c2",
   "metadata": {},
   "outputs": [],
   "source": [
    "#Visualisation\n",
    "fig, ax = plt.subplots(figsize=(15, 10))\n",
    "y_max = 30000\n",
    "#plt.figure(figsize=(20,10))\n",
    "barWidth = 0.5\n",
    "\n",
    "ind1 = np.arange(18, step=3)\n",
    "ind2 = [x + barWidth for x in ind1]\n",
    "ind3 = [x + barWidth for x in ind2]\n",
    "ind4 = [x + barWidth for x in ind3]\n",
    "\n",
    "p1_5 = plt.bar(ind1, bottom_junction_1, width=barWidth-0.1, color=\"#1E88E5\")\n",
    "p2_5 = plt.bar(ind1, top_junction_1, bottom=bottom_junction_1, width=barWidth-0.1, color = '#FFC107')\n",
    "\n",
    "p1_6 = plt.bar(ind2, bottom_junction_2, width=barWidth-0.1, color=\"#1E88E5\")\n",
    "p2_6 = plt.bar(ind2, top_junction_2, bottom=bottom_junction_2, width=barWidth-0.1, color = '#FFC107')\n",
    "\n",
    "p1_7 = plt.bar(ind3, bottom_junction_3, width=barWidth-0.1, color=\"#1E88E5\")\n",
    "p2_7 = plt.bar(ind3, top_junction_3, bottom=bottom_junction_3, width=barWidth-0.1, color = '#FFC107')\n",
    "\n",
    "p1_8 = plt.bar(ind4, bottom_junction_4, width=barWidth-0.1, color=\"#1E88E5\")\n",
    "p2_8 = plt.bar(ind4, top_junction_4, bottom=bottom_junction_4, width=barWidth-0.1, color = '#FFC107')\n",
    "\n",
    "\n",
    "\n",
    "\n",
    "plt.xticks([r + barWidth for r in [ 0, 3, 6, 9, 12, 15]], \n",
    "           ['50M', '100M', '150M', '200M', '250M', '300M'],\n",
    "          fontsize=20)\n",
    "ax.yaxis.set_major_formatter(plt.FuncFormatter(format_func_K))\n",
    "\n",
    "plt.legend((p1_5[0], p2_5[0]), ('100', '<100'), fontsize=40, loc='best')\n",
    "plt.yticks(fontsize=40)\n",
    "plt.xticks(fontsize=40)\n",
    "\n",
    "plt.ylabel(str(tpm_thr_min) + '<=TPM<' + str(tpm_thr_max), fontsize=40)\n",
    "\n",
    "plt.ylim(0, y_max)\n",
    "\n",
    "plt.show()"
   ]
  },
  
  {
   "cell_type": "code",
   "execution_count": null,
   "id": "a4e4266d",
   "metadata": {},
   "outputs": [],
   "source": []
  }
 ],
 "metadata": {
  "kernelspec": {
   "display_name": "Python 3 (ipykernel)",
   "language": "python",
   "name": "python3"
  },
  "language_info": {
   "codemirror_mode": {
    "name": "ipython",
    "version": 3
   },
   "file_extension": ".py",
   "mimetype": "text/x-python",
   "name": "python",
   "nbconvert_exporter": "python",
   "pygments_lexer": "ipython3",
   "version": "3.9.12"
  }
 },
 "nbformat": 4,
 "nbformat_minor": 5
}
