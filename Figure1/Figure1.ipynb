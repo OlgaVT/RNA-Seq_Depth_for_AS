{
 "cells": [
  {
   "cell_type": "code",
   "execution_count": null,
   "id": "0e259398",
   "metadata": {},
   "outputs": [],
   "source": [
    "import pandas as pd\n",
    "import glob\n",
    "from collections import defaultdict\n",
    "from statistics import median\n",
    "from statistics import mean\n",
    "from kneed import KneeLocator\n",
    "import pymannkendall as mk\n",
    "from statistics import stdev\n",
    "import matplotlib.pyplot as plt\n",
    "import numpy as np\n",
    "from natsort import natsorted\n",
    "import importlib"
   ]
  },
  {
   "cell_type": "code",
   "execution_count": null,
   "id": "5fb2a6f7",
   "metadata": {},
   "outputs": [],
   "source": [
    "def format_func_K(value, tick_number):\n",
    "    # find number of multiples of pi/2\n",
    "    if value % 1000 == 0 and value != 0:\n",
    "        value = '{:.0f}'.format(value / 1000)\n",
    "        return str(value) + \"K\""
   ]
  },
  {
   "cell_type": "code",
   "execution_count": null,
   "id": "94a4435f",
   "metadata": {},
   "outputs": [],
   "source": [
    "def Counting(filename, tpm_thr_min, tpm_thr_max, psi_thr_min, psi_thr_max):\n",
    "    summary = open(path + filename)\n",
    "    tpm_thr_min = tpm_thr_min\n",
    "    tpm_thr_max = tpm_thr_max\n",
    "    psi_thr_min = psi_thr_min\n",
    "    psi_thr_max = psi_thr_max\n",
    "    \n",
    "    as_gene_dict = defaultdict(set)\n",
    "    as_junction_dict = defaultdict(set)\n",
    "    \n",
    "    number_gene_dict = defaultdict(set)\n",
    "    number_junction_dict = defaultdict(set)\n",
    "    \n",
    "    depth_dict = {}\n",
    "    \n",
    "    mean_gene_dict = {}\n",
    "    mean_junction_dict = {}\n",
    "    \n",
    "    stdev_gene_dict = {}\n",
    "    stdev_junction_dict = {}\n",
    "    \n",
    "    for line in summary:\n",
    "        phenotype, sample, gene, junction, psi, depth, tpm = line.split()\n",
    "        junction_id = gene + '_' + junction\n",
    "        depth_dict[sample] = depth\n",
    "        if float(psi) >= psi_thr_min and float(psi) < psi_thr_max:\n",
    "            if float(tpm) >= tpm_thr_min and float(tpm) < tpm_thr_max:\n",
    "                as_gene_dict[sample].add(gene)#all genes with AS for each sample\n",
    "                as_junction_dict[sample].add(junction_id) #all junctions for each sample \n",
    "    \n",
    "    for k,v in as_gene_dict.items():\n",
    "        number_gene_dict[depth_dict[k]].add(len(v))#number of genes with AS for each sample\n",
    "    for k,v in as_junction_dict.items():\n",
    "        number_junction_dict[depth_dict[k]].add(len(v))#number of genes with AS for each sample\n",
    "        \n",
    "    for k,v in number_gene_dict.items():\n",
    "        mean_gene_dict[k] = mean(v)\n",
    "        stdev_gene_dict[k] = stdev(v)\n",
    "        \n",
    "    for k,v in number_junction_dict.items():\n",
    "        mean_junction_dict[k] = mean(v)\n",
    "        stdev_junction_dict[k] = stdev(v)\n",
    "        \n",
    "    return(mean_gene_dict, stdev_gene_dict, mean_junction_dict, stdev_junction_dict)\n"
   ]
  },
  {
   "cell_type": "code",
   "execution_count": null,
   "id": "e59ef64b",
   "metadata": {},
   "outputs": [],
   "source": [
    "#Visualisation\n",
    "def Plotting(phenotype, average_as, std_as, tpm_thr_min, tpm_thr_max, max_y):\n",
    "   \n",
    "    fig, ax = plt.subplots(figsize=(15, 10))\n",
    "    barWidth = 0.5\n",
    "    ind1 = np.arange(10, step=1)\n",
    "    gene_y = []\n",
    "    c = []\n",
    "    for k,v in dict(natsorted(average_as.items())).items():\n",
    "        gene_y.append(v)\n",
    "\n",
    "    for k,v in dict(natsorted(std_as.items())).items():\n",
    "        c.append(v)\n",
    "    \n",
    "    \n",
    "    p1_1 = plt.bar(ind1, gene_y, yerr = c, width=barWidth-0.1, color=\"#004D40\")\n",
    "    \n",
    "    plt.xticks([r for r in [ 0, 1, 2, 3, 4, 5, 6 , 7, 8, 9]], \n",
    "           ['60M (4)', '70M (10)', '80M (23)', '90M (18)', \n",
    "            '100M (8)', '110M (4)', '120M (15)', '130M (7)', '140M (8)', '150M (2)'])\n",
    "    \n",
    "    plt.yticks(fontsize=50)\n",
    "    plt.xticks(fontsize=40, rotation = 90)\n",
    "    ax.yaxis.set_major_formatter(plt.FuncFormatter(format_func_K))\n",
    "    plt.ylabel(str(tpm_thr_min) + '<=TPM<' + str(tpm_thr_max), fontsize=60)\n",
    "\n",
    "    plt.ylim(0, max_y)\n",
    "    plt.show()"
   ]
  },
  {
   "cell_type": "code",
   "execution_count": null,
   "id": "bf14d956",
   "metadata": {},
   "outputs": [],
   "source": [
    "path = \"\"#path to covid_summary.tsv"
   ]
  },
  {
   "cell_type": "code",
   "execution_count": null,
   "id": "0a53b66c",
   "metadata": {},
   "outputs": [],
   "source": [
    "filename = 'covid_summary.tsv'\n",
    "\n",
    "one_gene, one_std_gene, one_junction, one_std_junction = Counting(filename, 0, 0.1, 0.05, 0.95)\n",
    "two_gene, two_std_gene, two_junction, two_std_junction = Counting(filename, 0.1, 0.5, 0.05, 0.95)\n",
    "three_gene, three_std_gene, three_junction, three_std_junction = Counting(filename, 0.5, 1, 0.05, 0.95)\n",
    "four_gene, four_std_gene, four_junction, four_std_junction = Counting(filename, 1, 10, 0.05, 0.95)\n",
    "five_gene, five_std_gene, five_junction, five_std_junction = Counting(filename, 10, float('inf'), 0.05, 0.95)\n",
    "six_gene, six_std_gene, six_junction, six_std_junction = Counting(filename, 1, float('inf'), 0.05, 0.95)\n",
    "\n"
   ]
  },
  {
   "cell_type": "code",
   "execution_count": null,
   "id": "d7e585bb",
   "metadata": {},
   "outputs": [],
   "source": [
    "y_max = max(max(list(one_gene.values())), max(list(two_gene.values())), \n",
    "            max(list(three_gene.values())), max(list(four_gene.values())),\n",
    "            max(list(five_gene.values())), max(list(six_gene.values())))"
   ]
  },
  {
   "cell_type": "code",
   "execution_count": null,
   "id": "b80f57e4",
   "metadata": {},
   "outputs": [],
   "source": [
    "#Mann-Kendall Trend test\n",
    "result = [one_gene[key] for key in natsorted(one_gene.keys(), reverse=False)]\n",
    "print(mk.original_test(result))#for each list"
   ]
  },
  {
   "cell_type": "code",
   "execution_count": null,
   "id": "53f09b29",
   "metadata": {},
   "outputs": [],
   "source": [
    "#Genes\n",
    "tpm_thr_min = 10 #0, 0.1, 0.5, 1, 10\n",
    "tpm_thr_max = float('inf')#0.1, 0.5, 1, 10, float('inf'), float('inf')\n",
    "\n",
    "if tpm_thr_min == 0:\n",
    "    mean_value = one_gene\n",
    "    std_value = one_std_gene\n",
    "    \n",
    "if tpm_thr_min == 0.1:\n",
    "    mean_value = two_gene\n",
    "    std_value = two_std_gene\n",
    "    \n",
    "if tpm_thr_min == 0.5:\n",
    "    mean_value = three_gene\n",
    "    std_value = three_std_gene\n",
    "    \n",
    "if tpm_thr_min == 1 and tpm_thr_max == 10:\n",
    "    mean_value = four_gene\n",
    "    std_value = four_std_gene\n",
    "    \n",
    "if tpm_thr_min == 10:\n",
    "    mean_value = five_gene\n",
    "    std_value = five_std_gene\n",
    "    \n",
    "if tpm_thr_min == 1 and tpm_thr_max == float('inf'):\n",
    "    mean_value = six_gene\n",
    "    std_value = six_std_gene\n",
    "    "
   ]
  },
  {
   "cell_type": "code",
   "execution_count": null,
   "id": "f3f3869c",
   "metadata": {},
   "outputs": [],
   "source": [
    "Plotting('Covid-19', mean_value, std_value, tpm_thr_min, tpm_thr_max,  y_max+ 1000)"
   ]
  },
  {
   "cell_type": "code",
   "execution_count": null,
   "id": "135b0483",
   "metadata": {},
   "outputs": [],
   "source": [
    "#Junctions\n",
    "tpm_thr_min = 10 #0, 0.1, 0.5, 1, 10\n",
    "tpm_thr_max = float('inf')#0.1, 0.5, 1, 10, float('inf'), float('inf') \n",
    "\n",
    "if tpm_thr_min == 0:\n",
    "    mean_value = one_junction\n",
    "    std_value = one_std_junction\n",
    "    \n",
    "if tpm_thr_min == 0.1:\n",
    "    mean_value = two_junction\n",
    "    std_value = two_std_junction\n",
    "    \n",
    "if tpm_thr_min == 0.5:\n",
    "    mean_value = three_junction\n",
    "    std_value = three_std_junction\n",
    "    \n",
    "if tpm_thr_min == 1 and tpm_thr_max == 10:\n",
    "    mean_value = four_junction\n",
    "    std_value = four_std_junction\n",
    "    \n",
    "if tpm_thr_min == 10:\n",
    "    mean_value = five_junction\n",
    "    std_value = five_std_junction\n",
    "    \n",
    "if tpm_thr_min == 1 and tpm_thr_max == float('inf'):\n",
    "    mean_value = six_junction\n",
    "    std_value = six_std_junction\n",
    "    "
   ]
  },
  {
   "cell_type": "code",
   "execution_count": null,
   "id": "2e028741",
   "metadata": {},
   "outputs": [],
   "source": [
    "y_max = max(max(list(one_junction.values())), max(list(two_junction.values())), \n",
    "            max(list(three_junction.values())), max(list(four_junction.values())),\n",
    "            max(list(five_junction.values())), max(list(six_junction.values())))"
   ]
  },
  {
   "cell_type": "code",
   "execution_count": null,
   "id": "84ecd492",
   "metadata": {
    "scrolled": true
   },
   "outputs": [],
   "source": [
    "Plotting('Covid-19', mean_value, std_value, tpm_thr_min, tpm_thr_max,  y_max+10000)"
   ]
  },
    {
   "cell_type": "code",
   "execution_count": null,
   "id": "33197358",
   "metadata": {},
   "outputs": [],
   "source": [
    "result = [one_junction[key] for key in natsorted(one_junction.keys(), reverse=False)]\n",
    "print(mk.original_test(result))#for each list"
   ]
  },
  {
   "cell_type": "code",
   "execution_count": null,
   "id": "86703091",
   "metadata": {},
   "outputs": [],
   "source": []
  }
 ],
 "metadata": {
  "kernelspec": {
   "display_name": "Python 3 (ipykernel)",
   "language": "python",
   "name": "python3"
  },
  "language_info": {
   "codemirror_mode": {
    "name": "ipython",
    "version": 3
   },
   "file_extension": ".py",
   "mimetype": "text/x-python",
   "name": "python",
   "nbconvert_exporter": "python",
   "pygments_lexer": "ipython3",
   "version": "3.9.12"
  }
 },
 "nbformat": 4,
 "nbformat_minor": 5
}
