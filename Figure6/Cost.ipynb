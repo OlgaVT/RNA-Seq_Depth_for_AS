{
 "cells": [
  {
   "cell_type": "code",
   "execution_count": 206,
   "id": "17fa54d6",
   "metadata": {},
   "outputs": [],
   "source": [
    "import pandas as pd\n",
    "import numpy as np\n",
    "import glob\n",
    "import matplotlib.pyplot as plt\n",
    "import seaborn as sns"
   ]
  },
  {
   "cell_type": "code",
   "execution_count": 207,
   "id": "a9f438d4",
   "metadata": {},
   "outputs": [],
   "source": [
    "def Counting(filenames, level):\n",
    "    file_list = sorted(glob.glob(filenames))\n",
    "    cat1 = [] # >98 samples\n",
    "    cat2 = [] # >= 90 samples\n",
    "    cat3 = [] # < 90 samples\n",
    "    for i in file_list:\n",
    "        file = open(i)\n",
    "        #print(i)\n",
    "        data = [] #the list to categorise the number of samples with AS gene/junction into three groups: > 98; >90; other \n",
    "        for line in file:\n",
    "            nsamples = int(line.split()[0])\n",
    "            ngenes = int(line.split()[1])\n",
    "            expression = line.split()[2]\n",
    "            if nsamples <= 90: data.append(['cat3', ngenes, expression])\n",
    "            elif nsamples > 98: data.append(['cat1', ngenes, expression])\n",
    "            else: data.append(['cat2', ngenes, expression])\n",
    "        df = pd.DataFrame.from_records(data)\n",
    "        df.columns=['Samples', 'Genes', 'Expression']\n",
    "        df_explevel = df[df['Expression'] == level] #to filter only records concerning the specific expression level\n",
    "        explevel = df_explevel.groupby(['Samples'])['Genes'].sum()\n",
    "        cat1.append(explevel[0])\n",
    "        cat2.append(explevel[1])\n",
    "        cat3.append(explevel[2])\n",
    "    return(np.array(cat1), np.array(cat2), np.array(cat3))"
   ]
  },
  {
   "cell_type": "code",
   "execution_count": 208,
   "id": "ad330b72",
   "metadata": {},
   "outputs": [],
   "source": [
    "typ = 'genes' #alternative is \"junctions\"\n",
    "\n",
    "novaseq_sp_lane = 2076\n",
    "novaseq_sp_mio = 325000000\n",
    "\n",
    "novaseq_s4_lane = 4516\n",
    "novaseq_s4_mio = 2000000000\n",
    "\n",
    "novaseq_s1_lane = 3516\n",
    "novaseq_s1_mio = 650000000\n",
    "\n",
    "seq_depths = np.array([50000000, 100000000, 150000000, 200000000, 250000000, 300000000])\n",
    "novaseq_sp_samples = novaseq_sp_mio / seq_depths\n",
    "novaseq_sp_price = novaseq_sp_lane / novaseq_sp_samples\n",
    "novaseq_sp_price = np.insert(novaseq_sp_price, 0, 0, axis=0)\n",
    "\n",
    "novaseq_s4_samples = novaseq_s4_mio / seq_depths\n",
    "novaseq_s4_price = novaseq_s4_lane / novaseq_s4_samples\n",
    "novaseq_s4_price = np.insert(novaseq_s4_price, 0, 0, axis=0)\n",
    "\n",
    "novaseq_s1_samples = novaseq_s1_mio / seq_depths\n",
    "novaseq_s1_price = novaseq_s1_lane / novaseq_s1_samples\n",
    "novaseq_s1_price = np.insert(novaseq_s1_price, 0, 0, axis=0)\n"
   ]
  },
  {
   "cell_type": "markdown",
   "id": "772f329f",
   "metadata": {},
   "source": [
    "Adipose"
   ]
  },
  {
   "cell_type": "code",
   "execution_count": 209,
   "id": "71d0eba6",
   "metadata": {},
   "outputs": [],
   "source": [
    "level = 'high'\n",
    "cat1_1, cat2_1, cat3_1 = Counting('./Adipose1_*_x_' + typ + '_in_y_samples', level)\n",
    "cat1_2, cat2_2, cat3_2 = Counting('./Adipose2_*_x_' + typ + '_in_y_samples', level)\n",
    "all_high_1 = cat1_1 + cat2_1 + cat3_1\n",
    "all_high_2 = cat1_2 + cat2_2 + cat3_2\n",
    "level = 'mid'\n",
    "cat1_1, cat2_1, cat3_1 = Counting('./Adipose1_*_x_' + typ + '_in_y_samples', level)\n",
    "cat1_2, cat2_2, cat3_2 = Counting('./Adipose2_*_x_' + typ + '_in_y_samples', level)\n",
    "all_mid_1 = cat1_1 + cat2_1 + cat3_1\n",
    "all_mid_2 = cat1_2 + cat2_2 + cat3_2\n",
    "level = 'low'\n",
    "cat1_1, cat2_1, cat3_1 = Counting('./Adipose1_*_x_' + typ + '_in_y_samples', level)\n",
    "cat1_2, cat2_2, cat3_2 = Counting('./Adipose2_*_x_' + typ + '_in_y_samples', level)\n",
    "all_low_1 = cat1_1 + cat2_1 + cat3_1\n",
    "all_low_2 = cat1_2 + cat2_2 + cat3_2"
   ]
  },
  {
   "cell_type": "code",
   "execution_count": 210,
   "id": "d8cab4bd",
   "metadata": {},
   "outputs": [],
   "source": [
    "all_as_1 = all_high_1 + all_mid_1 + all_low_1\n",
    "all_as_2 = all_high_2 + all_mid_2 + all_low_2\n",
    "\n",
    "all_as_1 = np.insert(all_as_1, 0, 0, axis=0)\n",
    "all_as_2 = np.insert(all_as_2, 0, 0, axis=0)\n"
   ]
  },
  {
   "cell_type": "code",
   "execution_count": 211,
   "id": "a70bdaac",
   "metadata": {},
   "outputs": [
    {
     "name": "stdout",
     "output_type": "stream",
     "text": [
      "[13314  1457   666   323   132    40]\n",
      "[319.38461538 319.38461538 319.38461538 319.38461538 319.38461538\n",
      " 319.38461538]\n"
     ]
    }
   ],
   "source": [
    "print(np.diff(all_as_1))\n",
    "print(np.diff(novaseq_sp_price))"
   ]
  },
  {
   "cell_type": "code",
   "execution_count": 212,
   "id": "58296af1",
   "metadata": {},
   "outputs": [
    {
     "data": {},
     "metadata": {
      "needs_background": "light"
     },
     "output_type": "display_data"
    }
   ],
   "source": [
    "seq_depths = np.array([50, 100, 150, 200, 250, 300])\n",
    "\n",
    "plt.plot(seq_depths, np.diff(novaseq_sp_price) / np.diff(all_as_1), color='#E69F00', \n",
    "         label = 'NovaSeq 6000 SP', linewidth=2.5)\n",
    "plt.plot(seq_depths, np.diff(novaseq_s1_price) / np.diff(all_as_1), color='#0072B2', \n",
    "         label = 'NovaSeq 6000 S1', linewidth=2.5)\n",
    "plt.plot(seq_depths, np.diff(novaseq_s4_price) / np.diff(all_as_1), color='#D55E00', \n",
    "         label = 'NovaSeq 6000 S4', linewidth=2.5)\n",
    "plt.legend(loc=\"upper left\", fontsize=15)\n",
    "\n",
    "plt.ylabel('Cost (in Euro)', fontsize=20)\n",
    "plt.xlabel('Sequencing depth', fontsize=20)\n",
    "plt.xticks(fontsize=15)\n",
    "plt.yticks(fontsize=15)\n",
    "\n",
    "plt.show()"
   ]
  },
  {
   "cell_type": "code",
   "execution_count": 213,
   "id": "72170a20",
   "metadata": {},
   "outputs": [
    {
     "data": {},
     "metadata": {
      "needs_background": "light"
     },
     "output_type": "display_data"
    }
   ],
   "source": [
    "seq_depths = np.array([50, 100, 150, 200, 250, 300])\n",
    "\n",
    "plt.plot(seq_depths, np.diff(novaseq_sp_price) / np.diff(all_as_2), color='#E69F00', \n",
    "         label = 'NovaSeq 6000 SP', linewidth=2.5)\n",
    "plt.plot(seq_depths, np.diff(novaseq_s1_price) / np.diff(all_as_2), color='#0072B2', \n",
    "         label = 'NovaSeq 6000 S1', linewidth=2.5)\n",
    "plt.plot(seq_depths, np.diff(novaseq_s4_price) / np.diff(all_as_2), color='#D55E00', \n",
    "         label = 'NovaSeq 6000 S4', linewidth=2.5)\n",
    "plt.legend(loc=\"upper left\", fontsize=15)\n",
    "\n",
    "plt.ylabel('Cost (in Euro)', fontsize=20)\n",
    "plt.xlabel('Sequencing depth', fontsize=20)\n",
    "plt.xticks(fontsize=15)\n",
    "plt.yticks(fontsize=15)\n",
    "\n",
    "plt.show()"
   ]
  },
  {
   "cell_type": "markdown",
   "id": "077dd473",
   "metadata": {},
   "source": [
    "Heart DCM"
   ]
  },
  {
   "cell_type": "code",
   "execution_count": 214,
   "id": "28000dff",
   "metadata": {},
   "outputs": [],
   "source": [
    "typ = 'genes'\n",
    "level = 'high'\n",
    "cat1_5, cat2_5, cat3_5 = Counting('./J26675_*_x_' + typ + '_in_y_samples', level)\n",
    "cat1_6, cat2_6, cat3_6 = Counting('./J26676_*_x_' + typ + '_in_y_samples', level)\n",
    "cat1_7, cat2_7, cat3_7 = Counting('./J26677_*_x_' + typ + '_in_y_samples', level)\n",
    "cat1_8, cat2_8, cat3_8 = Counting('./J26678_*_x_' + typ + '_in_y_samples', level)\n",
    "all_high_5 = cat1_5 + cat2_5 + cat3_5\n",
    "all_high_6 = cat1_6 + cat2_6 + cat3_6\n",
    "all_high_7 = cat1_7 + cat2_7 + cat3_7\n",
    "all_high_8 = cat1_8 + cat2_8 + cat3_8\n",
    "level = 'mid'\n",
    "cat1_5, cat2_5, cat3_5 = Counting('./J26675_*_x_' + typ + '_in_y_samples', level)\n",
    "cat1_6, cat2_6, cat3_6 = Counting('./J26676_*_x_' + typ + '_in_y_samples', level)\n",
    "cat1_7, cat2_7, cat3_7 = Counting('./J26677_*_x_' + typ + '_in_y_samples', level)\n",
    "cat1_8, cat2_8, cat3_8 = Counting('./J26678_*_x_' + typ + '_in_y_samples', level)\n",
    "all_mid_5 = cat1_5 + cat2_5 + cat3_5\n",
    "all_mid_6 = cat1_6 + cat2_6 + cat3_6\n",
    "all_mid_7 = cat1_7 + cat2_7 + cat3_7\n",
    "all_mid_8 = cat1_8 + cat2_8 + cat3_8\n",
    "level = 'low'\n",
    "cat1_5, cat2_5, cat3_5 = Counting('./J26675_*_x_' + typ + '_in_y_samples', level)\n",
    "cat1_6, cat2_6, cat3_6 = Counting('./J26676_*_x_' + typ + '_in_y_samples', level)\n",
    "cat1_7, cat2_7, cat3_7 = Counting('./J26677_*_x_' + typ + '_in_y_samples', level)\n",
    "cat1_8, cat2_8, cat3_8 = Counting('./J26678_*_x_' + typ + '_in_y_samples', level)\n",
    "all_low_5 = cat1_5 + cat2_5 + cat3_5\n",
    "all_low_6 = cat1_6 + cat2_6 + cat3_6\n",
    "all_low_7 = cat1_7 + cat2_7 + cat3_7\n",
    "all_low_8 = cat1_8 + cat2_8 + cat3_8"
   ]
  },
  {
   "cell_type": "code",
   "execution_count": null,
   "id": "1e470179",
   "metadata": {},
   "outputs": [],
   "source": [
    "all_as_5 = all_high_5 + all_mid_5 + all_low_5\n",
    "all_as_6 = all_high_6 + all_mid_6 + all_low_6\n",
    "all_as_7 = all_high_7 + all_mid_7 + all_low_7\n",
    "all_as_8 = all_high_8 + all_mid_8 + all_low_8\n",
    "\n",
    "all_as_av = (all_as_5 + all_as_6 + all_as_7 + all_as_8)/4\n",
    "\n",
    "all_as_5 = np.insert(all_as_5, 0, 0, axis=0)\n",
    "all_as_6 = np.insert(all_as_6, 0, 0, axis=0)\n",
    "all_as_7 = np.insert(all_as_7, 0, 0, axis=0)\n",
    "all_as_8 = np.insert(all_as_8, 0, 0, axis=0)\n",
    "\n",
    "all_as_av = np.insert(all_as_av, 0, 0, axis=0)"
   ]
  },
  {
   "cell_type": "code",
   "execution_count": 205,
   "id": "60b3b2f2",
   "metadata": {},
   "outputs": [
    {
     "data": {},
     "metadata": {
      "needs_background": "light"
     },
     "output_type": "display_data"
    }
   ],
   "source": [
    "plt.plot(seq_depths, np.diff(novaseq_sp_price) / np.diff(all_as_5), color='#E69F00', \n",
    "         label = 'NovaSeq 6000 SP', linewidth=2.5)\n",
    "plt.plot(seq_depths, np.diff(novaseq_s1_price) / np.diff(all_as_5), color='#0072B2', \n",
    "         label = 'NovaSeq 6000 S1', linewidth=2.5)\n",
    "plt.plot(seq_depths, np.diff(novaseq_s4_price) / np.diff(all_as_5), color='#D55E00', \n",
    "         label = 'NovaSeq 6000 S4', linewidth=2.5)\n",
    "plt.legend(loc=\"upper left\", fontsize=15)\n",
    "\n",
    "plt.ylabel('Cost (in Euro)', fontsize=20)\n",
    "plt.xlabel('Sequencing depth', fontsize=20)\n",
    "plt.xticks(fontsize=15)\n",
    "plt.yticks(fontsize=15)\n",
    "\n",
    "plt.show()"
   ]
  },
  {
   "cell_type": "markdown",
   "id": "611694d7",
   "metadata": {},
   "source": [
    "Hypothalamus"
   ]
  },
  {
   "cell_type": "code",
   "execution_count": 55,
   "id": "beb5c6a7",
   "metadata": {},
   "outputs": [],
   "source": [
    "\n",
    "level = 'high'\n",
    "cat1_1, cat2_1, cat3_1 = Counting('./Hypothalamus*_x_' + typ + '_in_y_samples', level)\n",
    "all_high_1 = cat1_1 + cat2_1 + cat3_1\n",
    "level = 'mid'\n",
    "cat1_1, cat2_1, cat3_1 = Counting('./Hypothalamus*_x_' + typ + '_in_y_samples', level)\n",
    "all_mid_1 = cat1_1 + cat2_1 + cat3_1\n",
    "level = 'low'\n",
    "cat1_1, cat2_1, cat3_1 = Counting('./Hypothalamus*_x_' + typ + '_in_y_samples', level)\n",
    "all_low_1 = cat1_1 + cat2_1 + cat3_1\n"
   ]
  },
  {
   "cell_type": "code",
   "execution_count": 56,
   "id": "f6c20528",
   "metadata": {},
   "outputs": [],
   "source": [
    "all_as_1 = all_high_1 + all_mid_1 + all_low_1\n",
    "\n",
    "all_as_1 = np.insert(all_as_1, 0, 0, axis=0)"
   ]
  },
  {
   "cell_type": "code",
   "execution_count": 57,
   "id": "0385a111",
   "metadata": {},
   "outputs": [],
   "source": [
    "seq_depths = np.array([50000000, 100000000, 150000000, 200000000])\n",
    "\n",
    "novaseq_sp_samples = novaseq_sp_mio / seq_depths\n",
    "novaseq_sp_price = novaseq_sp_lane / novaseq_sp_samples\n",
    "novaseq_sp_price = np.insert(novaseq_sp_price, 0, 0, axis=0)\n",
    "\n",
    "novaseq_s4_samples = novaseq_s4_mio / seq_depths\n",
    "novaseq_s4_price = novaseq_s4_lane / novaseq_s4_samples\n",
    "novaseq_s4_price = np.insert(novaseq_s4_price, 0, 0, axis=0)\n",
    "\n",
    "novaseq_s1_samples = novaseq_s1_mio / seq_depths\n",
    "novaseq_s1_price = novaseq_s1_lane / novaseq_s1_samples\n",
    "novaseq_s1_price = np.insert(novaseq_s1_price, 0, 0, axis=0)\n"
   ]
  },
  {
   "cell_type": "code",
   "execution_count": 58,
   "id": "40b3cb87",
   "metadata": {},
   "outputs": [
    {
     "data": {},
     "metadata": {
      "needs_background": "light"
     },
     "output_type": "display_data"
    }
   ],
   "source": [
    "seq_depths = np.array([50, 100, 150, 200])\n",
    "\n",
    "plt.plot(seq_depths, np.diff(novaseq_sp_price) / np.diff(all_as_1), color='#E69F00', \n",
    "         label = 'NovaSeq 6000 SP', linewidth=2.5)\n",
    "plt.plot(seq_depths, np.diff(novaseq_s1_price) / np.diff(all_as_1), color='#0072B2', \n",
    "         label = 'NovaSeq 6000 S1', linewidth=2.5)\n",
    "plt.plot(seq_depths, np.diff(novaseq_s4_price) / np.diff(all_as_1), color='#D55E00', \n",
    "         label = 'NovaSeq 6000 S4', linewidth=2.5)\n",
    "plt.legend(loc=\"upper left\", fontsize=15)\n",
    "\n",
    "plt.ylabel('Cost (in Euro)', fontsize=20)\n",
    "plt.xlabel('Sequencing depth', fontsize=20)\n",
    "plt.xticks(fontsize=15)\n",
    "plt.yticks(fontsize=15)\n",
    "\n",
    "plt.show()"
   ]
  },
  {
   "cell_type": "code",
   "execution_count": null,
   "id": "1a7f0b4e",
   "metadata": {},
   "outputs": [],
   "source": []
  },
  {
   "cell_type": "code",
   "execution_count": null,
   "id": "9055bddb",
   "metadata": {},
   "outputs": [],
   "source": []
  }
 ],
 "metadata": {
  "kernelspec": {
   "display_name": "Python 3 (ipykernel)",
   "language": "python",
   "name": "python3"
  },
  "language_info": {
   "codemirror_mode": {
    "name": "ipython",
    "version": 3
   },
   "file_extension": ".py",
   "mimetype": "text/x-python",
   "name": "python",
   "nbconvert_exporter": "python",
   "pygments_lexer": "ipython3",
   "version": "3.9.12"
  }
 },
 "nbformat": 4,
 "nbformat_minor": 5
}
